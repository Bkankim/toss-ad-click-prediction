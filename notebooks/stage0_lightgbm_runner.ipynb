{
 "cells": [
  {
   "cell_type": "markdown",
   "metadata": {},
   "source": [
    "# Stage 0 LightGBM Baseline"
   ]
  },
  {
   "cell_type": "code",
   "execution_count": 1,
   "metadata": {},
   "outputs": [
    {
     "data": {
      "text/plain": [
       "PosixPath('/Competition/toss-ad-click-prediction')"
      ]
     },
     "execution_count": 1,
     "metadata": {},
     "output_type": "execute_result"
    }
   ],
   "source": [
    "import sys\n",
    "from pathlib import Path\n",
    "ROOT = Path('..').resolve()\n",
    "if str(ROOT) not in sys.path:\n",
    "    sys.path.insert(0, str(ROOT))\n",
    "ROOT"
   ]
  },
  {
   "cell_type": "code",
   "execution_count": 2,
   "metadata": {},
   "outputs": [],
   "source": [
    "from src.data.downsample import DownsampleConfig, create_downsampled_dataset\n",
    "from src.train.lightgbm_runner import LightGBMConfig, train_lightgbm\n",
    "from src.train.log_utils import append_metric, MetricRecord, default_run_id\n"
   ]
  },
  {
   "cell_type": "markdown",
   "metadata": {},
   "source": [
    "## Generate / Load Downsampled Dataset"
   ]
  },
  {
   "cell_type": "code",
   "execution_count": 3,
   "metadata": {},
   "outputs": [
    {
     "data": {
      "text/plain": [
       "PosixPath('../data/processed/train_downsample_1_2.parquet')"
      ]
     },
     "execution_count": 3,
     "metadata": {},
     "output_type": "execute_result"
    }
   ],
   "source": [
    "cfg = DownsampleConfig(\n",
    "    raw_path='../data/train.parquet',\n",
    "    output_path='../data/processed/train_downsample_1_2.parquet',\n",
    "    negative_multiplier=2.0,\n",
    "    seed=42,\n",
    "    shuffle=True,\n",
    ")\n",
    "downsample_path = create_downsampled_dataset(cfg)\n",
    "downsample_path"
   ]
  },
  {
   "cell_type": "markdown",
   "metadata": {},
   "source": [
    "## Train LightGBM"
   ]
  },
  {
   "cell_type": "code",
   "execution_count": 6,
   "metadata": {},
   "outputs": [
    {
     "data": {
      "text/html": [],
      "text/plain": [
       "<IPython.core.display.HTML object>"
      ]
     },
     "metadata": {},
     "output_type": "display_data"
    },
    {
     "data": {
      "text/html": [
       "Tracking run with wandb version 0.22.0"
      ],
      "text/plain": [
       "<IPython.core.display.HTML object>"
      ]
     },
     "metadata": {},
     "output_type": "display_data"
    },
    {
     "data": {
      "text/html": [
       "Run data is saved locally in <code>/Competition/toss-ad-click-prediction/notebooks/wandb/run-20250920_022520-c1npobav</code>"
      ],
      "text/plain": [
       "<IPython.core.display.HTML object>"
      ]
     },
     "metadata": {},
     "output_type": "display_data"
    },
    {
     "data": {
      "text/html": [
       "Syncing run <strong><a href='https://wandb.ai/bkan-ai/toss-ad-click-prediction-notebooks/runs/c1npobav' target=\"_blank\">20250919_172520_lgbm_baseline</a></strong> to <a href='https://wandb.ai/bkan-ai/toss-ad-click-prediction-notebooks' target=\"_blank\">Weights & Biases</a> (<a href='https://wandb.me/developer-guide' target=\"_blank\">docs</a>)<br>"
      ],
      "text/plain": [
       "<IPython.core.display.HTML object>"
      ]
     },
     "metadata": {},
     "output_type": "display_data"
    },
    {
     "data": {
      "text/html": [
       " View project at <a href='https://wandb.ai/bkan-ai/toss-ad-click-prediction-notebooks' target=\"_blank\">https://wandb.ai/bkan-ai/toss-ad-click-prediction-notebooks</a>"
      ],
      "text/plain": [
       "<IPython.core.display.HTML object>"
      ]
     },
     "metadata": {},
     "output_type": "display_data"
    },
    {
     "data": {
      "text/html": [
       " View run at <a href='https://wandb.ai/bkan-ai/toss-ad-click-prediction-notebooks/runs/c1npobav' target=\"_blank\">https://wandb.ai/bkan-ai/toss-ad-click-prediction-notebooks/runs/c1npobav</a>"
      ],
      "text/plain": [
       "<IPython.core.display.HTML object>"
      ]
     },
     "metadata": {},
     "output_type": "display_data"
    },
    {
     "name": "stdout",
     "output_type": "stream",
     "text": [
      "Training until validation scores don't improve for 50 rounds\n",
      "[50]\tvalid_0's binary_logloss: 0.556469\n",
      "[100]\tvalid_0's binary_logloss: 0.5523\n",
      "[150]\tvalid_0's binary_logloss: 0.5513\n",
      "[200]\tvalid_0's binary_logloss: 0.550798\n",
      "[250]\tvalid_0's binary_logloss: 0.550563\n",
      "[300]\tvalid_0's binary_logloss: 0.550552\n",
      "Early stopping, best iteration is:\n",
      "[297]\tvalid_0's binary_logloss: 0.550533\n"
     ]
    },
    {
     "data": {
      "text/html": [],
      "text/plain": [
       "<IPython.core.display.HTML object>"
      ]
     },
     "metadata": {},
     "output_type": "display_data"
    },
    {
     "data": {
      "text/html": [
       "<br>    <style><br>        .wandb-row {<br>            display: flex;<br>            flex-direction: row;<br>            flex-wrap: wrap;<br>            justify-content: flex-start;<br>            width: 100%;<br>        }<br>        .wandb-col {<br>            display: flex;<br>            flex-direction: column;<br>            flex-basis: 100%;<br>            flex: 1;<br>            padding: 10px;<br>        }<br>    </style><br><div class=\"wandb-row\"><div class=\"wandb-col\"><h3>Run history:</h3><br/><table class=\"wandb\"><tr><td>validation/ap</td><td>▁</td></tr><tr><td>validation/best_iteration</td><td>▁</td></tr><tr><td>validation/competition_score</td><td>▁</td></tr><tr><td>validation/wll</td><td>▁</td></tr></table><br/></div><div class=\"wandb-col\"><h3>Run summary:</h3><br/><table class=\"wandb\"><tr><td>validation/ap</td><td>0.60386</td></tr><tr><td>validation/best_iteration</td><td>297</td></tr><tr><td>validation/competition_score</td><td>0.47814</td></tr><tr><td>validation/wll</td><td>0.64757</td></tr></table><br/></div></div>"
      ],
      "text/plain": [
       "<IPython.core.display.HTML object>"
      ]
     },
     "metadata": {},
     "output_type": "display_data"
    },
    {
     "data": {
      "text/html": [
       " View run <strong style=\"color:#cdcd00\">20250919_172520_lgbm_baseline</strong> at: <a href='https://wandb.ai/bkan-ai/toss-ad-click-prediction-notebooks/runs/c1npobav' target=\"_blank\">https://wandb.ai/bkan-ai/toss-ad-click-prediction-notebooks/runs/c1npobav</a><br> View project at: <a href='https://wandb.ai/bkan-ai/toss-ad-click-prediction-notebooks' target=\"_blank\">https://wandb.ai/bkan-ai/toss-ad-click-prediction-notebooks</a><br>Synced 5 W&B file(s), 0 media file(s), 0 artifact file(s) and 0 other file(s)"
      ],
      "text/plain": [
       "<IPython.core.display.HTML object>"
      ]
     },
     "metadata": {},
     "output_type": "display_data"
    },
    {
     "data": {
      "text/html": [
       "Find logs at: <code>./wandb/run-20250920_022520-c1npobav/logs</code>"
      ],
      "text/plain": [
       "<IPython.core.display.HTML object>"
      ]
     },
     "metadata": {},
     "output_type": "display_data"
    },
    {
     "data": {
      "text/plain": [
       "{'ap': 0.6038613762857505,\n",
       " 'wll': 0.6475747211292291,\n",
       " 'competition_score': 0.4781433275782607,\n",
       " 'best_iteration': 297}"
      ]
     },
     "execution_count": 6,
     "metadata": {},
     "output_type": "execute_result"
    }
   ],
   "source": [
    "lgb_cfg = LightGBMConfig(\n",
    "    train_path=str(downsample_path),\n",
    "    random_state=42,\n",
    "    enable_wandb=True\n",
    ")\n",
    "result = train_lightgbm(lgb_cfg)\n",
    "result.metrics"
   ]
  },
  {
   "cell_type": "markdown",
   "metadata": {},
   "source": [
    "## Log Metrics"
   ]
  },
  {
   "cell_type": "code",
   "execution_count": 7,
   "metadata": {},
   "outputs": [
    {
     "data": {
      "text/plain": [
       "'20250919_172520_lgbm_baseline'"
      ]
     },
     "execution_count": 7,
     "metadata": {},
     "output_type": "execute_result"
    }
   ],
   "source": [
    "run_id = result.run_id\n",
    "append_metric(\n",
    "    MetricRecord(\n",
    "        run_id=run_id,\n",
    "        stage='stage0',\n",
    "        dataset='validation',\n",
    "        metrics=result.metrics,\n",
    "        notes='stage0 baseline (notebook)',\n",
    "    )\n",
    ")\n",
    "run_id"
   ]
  }
 ],
 "metadata": {
  "kernelspec": {
   "display_name": "Competition",
   "language": "python",
   "name": "python3"
  },
  "language_info": {
   "codemirror_mode": {
    "name": "ipython",
    "version": 3
   },
   "file_extension": ".py",
   "mimetype": "text/x-python",
   "name": "python",
   "nbconvert_exporter": "python",
   "pygments_lexer": "ipython3",
   "version": "3.10.13"
  }
 },
 "nbformat": 4,
 "nbformat_minor": 5
}
