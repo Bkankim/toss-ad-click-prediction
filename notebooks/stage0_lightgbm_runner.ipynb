{
 "cells": [
  {
   "cell_type": "markdown",
   "metadata": {},
   "source": [
    "# Stage 0 LightGBM Baseline"
   ]
  },
  {
   "cell_type": "code",
   "execution_count": null,
   "metadata": {},
   "outputs": [],
   "source": [
    "import sys\n",
    "from pathlib import Path\n",
    "ROOT = Path('..').resolve()\n",
    "if str(ROOT) not in sys.path:\n",
    "    sys.path.insert(0, str(ROOT))\n",
    "ROOT"
   ]
  },
  {
   "cell_type": "code",
   "execution_count": null,
   "metadata": {},
   "outputs": [],
   "source": [
    "from src.data.downsample import DownsampleConfig, create_downsampled_dataset\n",
    "from src.train.lightgbm_runner import LightGBMConfig, train_lightgbm\n",
    "from src.train.log_utils import append_metric, MetricRecord, default_run_id\n"
   ]
  },
  {
   "cell_type": "markdown",
   "metadata": {},
   "source": [
    "## Generate / Load Downsampled Dataset"
   ]
  },
  {
   "cell_type": "code",
   "execution_count": null,
   "metadata": {},
   "outputs": [],
   "source": [
    "cfg = DownsampleConfig(\n",
    "    raw_path='../data/train.parquet',\n",
    "    output_path='../data/processed/train_downsample_1_2.parquet',\n",
    "    negative_multiplier=2.0,\n",
    "    seed=42,\n",
    "    shuffle=True,\n",
    ")\n",
    "downsample_path = create_downsampled_dataset(cfg)\n",
    "downsample_path"
   ]
  },
  {
   "cell_type": "markdown",
   "metadata": {},
   "source": [
    "## Train LightGBM"
   ]
  },
  {
   "cell_type": "code",
   "execution_count": null,
   "metadata": {},
   "outputs": [],
   "source": [
    "lgb_cfg = LightGBMConfig(\n",
    "    train_path=str(downsample_path),\n",
    "    random_state=42,\n",
    "    enable_wandb=False\n",
    ")\n",
    "result = train_lightgbm(lgb_cfg)\n",
    "result.metrics"
   ]
  },
  {
   "cell_type": "markdown",
   "metadata": {},
   "source": [
    "## Log Metrics"
   ]
  },
  {
   "cell_type": "code",
   "execution_count": null,
   "metadata": {},
   "outputs": [],
   "source": [
    "run_id = result.run_id\n",
    "append_metric(\n",
    "    MetricRecord(\n",
    "        run_id=run_id,\n",
    "        stage='stage0',\n",
    "        dataset='validation',\n",
    "        metrics=result.metrics,\n",
    "        notes='stage0 baseline (notebook)',\n",
    "    )\n",
    ")\n",
    "run_id"
   ]
  }
 ],
 "metadata": {
  "kernelspec": {
   "display_name": "Python 3",
   "language": "python",
   "name": "python3"
  },
  "language_info": {
   "codemirror_mode": {
    "name": "ipython",
    "version": 3
   },
   "file_extension": ".py",
   "mimetype": "text/x-python",
   "name": "python",
   "nbconvert_exporter": "python",
   "pygments_lexer": "ipython3",
   "version": "3.10"
  }
 }
}
