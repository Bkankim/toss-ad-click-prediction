{
  "cells": [
    {
      "cell_type": "markdown",
      "metadata": {},
      "source": [
        "# 원클릭 제출 생성\n",
        "\n",
        "최신 학습 스크립트를 실행하고 즉시 제출 CSV를 준비합니다."
      ]
    },
    {
      "cell_type": "markdown",
      "metadata": {},
      "source": [
        "- 아래 설정 셀만 수정한 뒤 순서대로 실행하세요.\n",
        "- 학습 스크립트 내부에서 저장 직전 `du -sh / 2>/dev/null`을 자동 실행합니다."
      ]
    },
    {
      "cell_type": "code",
      "execution_count": 1,
      "metadata": {},
      "outputs": [
        {
          "ename": "FileNotFoundError",
          "evalue": "훈련 스크립트를 찾을 수 없습니다: /Competition/toss-ad-click-prediction/notebooks/src/train/train.py",
          "output_type": "error",
          "traceback": [
            "\u001b[0;31m---------------------------------------------------------------------------\u001b[0m",
            "\u001b[0;31mFileNotFoundError\u001b[0m                         Traceback (most recent call last)",
            "Cell \u001b[0;32mIn[1], line 19\u001b[0m\n\u001b[1;32m     17\u001b[0m train_script \u001b[38;5;241m=\u001b[39m project_root \u001b[38;5;241m/\u001b[39m \u001b[38;5;124m'\u001b[39m\u001b[38;5;124msrc\u001b[39m\u001b[38;5;124m'\u001b[39m \u001b[38;5;241m/\u001b[39m \u001b[38;5;124m'\u001b[39m\u001b[38;5;124mtrain\u001b[39m\u001b[38;5;124m'\u001b[39m \u001b[38;5;241m/\u001b[39m \u001b[38;5;124m'\u001b[39m\u001b[38;5;124mtrain.py\u001b[39m\u001b[38;5;124m'\u001b[39m\n\u001b[1;32m     18\u001b[0m \u001b[38;5;28;01mif\u001b[39;00m \u001b[38;5;129;01mnot\u001b[39;00m train_script\u001b[38;5;241m.\u001b[39mexists():\n\u001b[0;32m---> 19\u001b[0m     \u001b[38;5;28;01mraise\u001b[39;00m \u001b[38;5;167;01mFileNotFoundError\u001b[39;00m(\u001b[38;5;124mf\u001b[39m\u001b[38;5;124m'\u001b[39m\u001b[38;5;124m훈련 스크립트를 찾을 수 없습니다: \u001b[39m\u001b[38;5;132;01m{\u001b[39;00mtrain_script\u001b[38;5;132;01m}\u001b[39;00m\u001b[38;5;124m'\u001b[39m)\n\u001b[1;32m     21\u001b[0m base_command: List[\u001b[38;5;28mstr\u001b[39m] \u001b[38;5;241m=\u001b[39m [\n\u001b[1;32m     22\u001b[0m     \u001b[38;5;124m'\u001b[39m\u001b[38;5;124mpython\u001b[39m\u001b[38;5;124m'\u001b[39m,\n\u001b[1;32m     23\u001b[0m     \u001b[38;5;28mstr\u001b[39m(train_script),\n\u001b[0;32m   (...)\u001b[0m\n\u001b[1;32m     32\u001b[0m     \u001b[38;5;124mf\u001b[39m\u001b[38;5;124m'\u001b[39m\u001b[38;5;124m--inference-input=\u001b[39m\u001b[38;5;132;01m{\u001b[39;00minference_input\u001b[38;5;132;01m}\u001b[39;00m\u001b[38;5;124m'\u001b[39m,\n\u001b[1;32m     33\u001b[0m ]\n\u001b[1;32m     34\u001b[0m \u001b[38;5;28;01mif\u001b[39;00m ensure_downsample:\n",
            "\u001b[0;31mFileNotFoundError\u001b[0m: 훈련 스크립트를 찾을 수 없습니다: /Competition/toss-ad-click-prediction/notebooks/src/train/train.py"
          ]
        }
      ],
      "source": [
        "from pathlib import Path\n",
        "from typing import List\n",
        "import shlex\n\n",
        "# 학습 및 제출 생성 파라미터 설정\n",
        "raw_train = 'data/train.parquet'\n",
        "train_path = 'data/processed/train_downsample_1_2.parquet'\n",
        "ensure_downsample = False\n",
        "negative_multiplier = 2.0\n",
        "seed = 42\n",
        "enable_wandb = False\n",
        "notes = ''\n",
        "inference_input = 'data/processed/test.parquet'\n",
        "submission_path = None  # 예: 'submission/custom_preds.csv'\n\n",
        "project_root = Path.cwd().resolve()\n",
        "train_candidate = project_root / 'src' / 'train' / 'train.py'\n",
        "if not train_candidate.exists():\n",
        "    alt_candidate = project_root.parent / 'src' / 'train' / 'train.py'\n",
        "    if alt_candidate.exists():\n",
        "        project_root = project_root.parent\n",
        "        train_candidate = alt_candidate\n\n",
        "if not train_candidate.exists():\n",
        "    raise FileNotFoundError(f\"훈련 스크립트를 찾을 수 없습니다: {train_candidate}\")\n\n",
        "def resolve_path(base: Path, value: str) -> Path:\n",
        "    path = Path(value)\n",
        "    return path if path.is_absolute() else (base / path).resolve()\n\n",
        "raw_train_path = resolve_path(project_root, raw_train)\n",
        "train_path_resolved = resolve_path(project_root, train_path)\n",
        "inference_input_path = resolve_path(project_root, inference_input)\n",
        "config_dir = (project_root / \"model\").resolve()\n",
        "model_dir = config_dir\n",
        "submission_output = None\n",
        "if submission_path:\n",
        "    submission_output = resolve_path(project_root, submission_path)\n\n",
        "base_command: List[str] = [\n",
        "    'python',\n",
        "    str(train_candidate),\n",
        "    f'--raw-train={raw_train_path}',\n",
        "    f'--train-path={train_path_resolved}',\n",
        "    f'--negative-multiplier={negative_multiplier}',\n",
        "    f'--seed={seed}',\n",
        "    f'--config-dir={config_dir}',\n",
        "    f'--model-dir={model_dir}',\n",
        "    f'--notes={notes}',\n",
        "    '--run-inference',\n",
        "    f'--inference-input={inference_input_path}',\n",
        "]\n",
        "if ensure_downsample:\n",
        "    base_command.append('--ensure-downsample')\n",
        "if enable_wandb:\n",
        "    base_command.append('--wandb')\n",
        "if submission_output:\n",
        "    base_command.append(f'--submission-path={submission_output}')\n\n",
        "print(f'프로젝트 루트: {project_root}')\n",
        "print('실행 커맨드:')\n",
        "print(' '.join(shlex.quote(part) for part in base_command))\n"
      ]
    },
    {
      "cell_type": "code",
      "execution_count": null,
      "metadata": {},
      "outputs": [],
      "source": [
        "import subprocess\n\n",
        "result = subprocess.run(base_command, check=False, cwd=project_root)\n",
        "if result.returncode != 0:\n",
        "    raise RuntimeError(f'명령 실행 실패 (exit code {result.returncode})')\n"
      ]
    }
  ],
  "metadata": {
    "kernelspec": {
      "display_name": "Competition",
      "language": "python",
      "name": "python3"
    },
    "language_info": {
      "codemirror_mode": {
        "name": "ipython",
        "version": 3
      },
      "file_extension": ".py",
      "mimetype": "text/x-python",
      "name": "python",
      "nbconvert_exporter": "python",
      "pygments_lexer": "ipython3",
      "version": "3.10.13"
    }
  },
  "nbformat": 4,
  "nbformat_minor": 5
}