{
 "cells": [
  {
   "cell_type": "markdown",
   "id": "a5b49aac",
   "metadata": {},
   "source": [
    "# Stage 1 Null Analysis\n",
    "\n",
    "`feat_e_3` 결측 패턴과 row_null≥95 고결측 행을 점검하는 노트북입니다. 실행 전후 용량 관리를 위해 저장 직전에 `du -sh / 2>/dev/null`로 디스크 사용량을 확인하세요.\n"
   ]
  },
  {
   "cell_type": "code",
   "execution_count": 1,
   "id": "574a1c60",
   "metadata": {},
   "outputs": [
    {
     "data": {
      "text/plain": [
       "PosixPath('/Competition/toss-ad-click-prediction')"
      ]
     },
     "execution_count": 1,
     "metadata": {},
     "output_type": "execute_result"
    }
   ],
   "source": [
    "from pathlib import Path\n",
    "import sys\n",
    "ROOT = Path('..').resolve()\n",
    "if str(ROOT) not in sys.path:\n",
    "    sys.path.insert(0, str(ROOT))\n",
    "ROOT\n"
   ]
  },
  {
   "cell_type": "code",
   "execution_count": 2,
   "id": "82c46917",
   "metadata": {},
   "outputs": [],
   "source": [
    "import polars as pl\n",
    "import pandas as pd\n",
    "import seaborn as sns\n",
    "import matplotlib.pyplot as plt\n",
    "from src.data.null_analysis import (\n",
    "    NullAnalysisConfig,\n",
    "    feat_e3_overview,\n",
    "    feat_e3_by_column,\n",
    "    high_null_overview,\n",
    "    high_null_by_column,\n",
    ")\n",
    "from src.data.features import FeatureConfig, prepare_features\n",
    "sns.set_theme()\n"
   ]
  },
  {
   "cell_type": "code",
   "execution_count": 3,
   "id": "01b7cddb",
   "metadata": {},
   "outputs": [
    {
     "data": {
      "text/plain": [
       "NullAnalysisConfig(data_path='/Competition/toss-ad-click-prediction/data/train.parquet', feature_col='feat_e_3', target_col='clicked', high_null_threshold=95)"
      ]
     },
     "execution_count": 3,
     "metadata": {},
     "output_type": "execute_result"
    }
   ],
   "source": [
    "DATA_PATH = ROOT / 'data' / 'train.parquet'\n",
    "cfg = NullAnalysisConfig(data_path=str(DATA_PATH), feature_col='feat_e_3', target_col='clicked', high_null_threshold=95)\n",
    "cfg\n"
   ]
  },
  {
   "cell_type": "markdown",
   "id": "d8232018",
   "metadata": {},
   "source": [
    "## feat_e_3 전체/타깃별 결측 비율\n"
   ]
  },
  {
   "cell_type": "code",
   "execution_count": 4,
   "id": "5a792e2d",
   "metadata": {},
   "outputs": [
    {
     "data": {
      "text/html": [
       "<div><style>\n",
       ".dataframe > thead > tr,\n",
       ".dataframe > tbody > tr {\n",
       "  text-align: right;\n",
       "  white-space: pre-wrap;\n",
       "}\n",
       "</style>\n",
       "<small>shape: (3, 5)</small><table border=\"1\" class=\"dataframe\"><thead><tr><th>total_rows</th><th>null_count</th><th>null_ratio</th><th>clicked</th><th>rows</th></tr><tr><td>u32</td><td>u32</td><td>f64</td><td>i32</td><td>u32</td></tr></thead><tbody><tr><td>10704179</td><td>1085557</td><td>0.101414</td><td>null</td><td>null</td></tr><tr><td>null</td><td>1064879</td><td>0.101417</td><td>0</td><td>10500000</td></tr><tr><td>null</td><td>20678</td><td>0.101274</td><td>1</td><td>204179</td></tr></tbody></table></div>"
      ],
      "text/plain": [
       "shape: (3, 5)\n",
       "┌────────────┬────────────┬────────────┬─────────┬──────────┐\n",
       "│ total_rows ┆ null_count ┆ null_ratio ┆ clicked ┆ rows     │\n",
       "│ ---        ┆ ---        ┆ ---        ┆ ---     ┆ ---      │\n",
       "│ u32        ┆ u32        ┆ f64        ┆ i32     ┆ u32      │\n",
       "╞════════════╪════════════╪════════════╪═════════╪══════════╡\n",
       "│ 10704179   ┆ 1085557    ┆ 0.101414   ┆ null    ┆ null     │\n",
       "│ null       ┆ 1064879    ┆ 0.101417   ┆ 0       ┆ 10500000 │\n",
       "│ null       ┆ 20678      ┆ 0.101274   ┆ 1       ┆ 204179   │\n",
       "└────────────┴────────────┴────────────┴─────────┴──────────┘"
      ]
     },
     "execution_count": 4,
     "metadata": {},
     "output_type": "execute_result"
    }
   ],
   "source": [
    "feat_e3_summary = feat_e3_overview(cfg)\n",
    "feat_e3_summary\n"
   ]
  },
  {
   "cell_type": "markdown",
   "id": "3499c086",
   "metadata": {},
   "source": [
    "## feat_e_3 결측률 상위 요일 / 인벤토리 / 시간대\n"
   ]
  },
  {
   "cell_type": "code",
   "execution_count": 5,
   "id": "e4456cdb",
   "metadata": {},
   "outputs": [
    {
     "data": {
      "text/plain": [
       "(shape: (7, 4)\n",
       " ┌─────────────┬─────────┬────────────┬────────────┐\n",
       " │ day_of_week ┆ rows    ┆ null_count ┆ null_ratio │\n",
       " │ ---         ┆ ---     ┆ ---        ┆ ---        │\n",
       " │ str         ┆ u32     ┆ u32        ┆ f64        │\n",
       " ╞═════════════╪═════════╪════════════╪════════════╡\n",
       " │ 1           ┆ 1525483 ┆ 246738     ┆ 0.161744   │\n",
       " │ 7           ┆ 1526335 ┆ 210995     ┆ 0.138236   │\n",
       " │ 3           ┆ 1529921 ┆ 144934     ┆ 0.094733   │\n",
       " │ 2           ┆ 1532022 ┆ 132488     ┆ 0.086479   │\n",
       " │ 5           ┆ 1529839 ┆ 126583     ┆ 0.082743   │\n",
       " │ 4           ┆ 1530297 ┆ 118697     ┆ 0.077565   │\n",
       " │ 6           ┆ 1530282 ┆ 105122     ┆ 0.068695   │\n",
       " └─────────────┴─────────┴────────────┴────────────┘,\n",
       " shape: (18, 4)\n",
       " ┌──────────────┬─────────┬────────────┬────────────┐\n",
       " │ inventory_id ┆ rows    ┆ null_count ┆ null_ratio │\n",
       " │ ---          ┆ ---     ┆ ---        ┆ ---        │\n",
       " │ str          ┆ u32     ┆ u32        ┆ f64        │\n",
       " ╞══════════════╪═════════╪════════════╪════════════╡\n",
       " │ 39           ┆ 34991   ┆ 14098      ┆ 0.402904   │\n",
       " │ 8            ┆ 21641   ┆ 5063       ┆ 0.233954   │\n",
       " │ 95           ┆ 4903    ┆ 1129       ┆ 0.230267   │\n",
       " │ 21           ┆ 989     ┆ 204        ┆ 0.206269   │\n",
       " │ 11           ┆ 321821  ┆ 65362      ┆ 0.2031     │\n",
       " │ …            ┆ …       ┆ …          ┆ …          │\n",
       " │ 2            ┆ 2630473 ┆ 302711     ┆ 0.115079   │\n",
       " │ 91           ┆ 101032  ┆ 7338       ┆ 0.07263    │\n",
       " │ 42           ┆ 1013762 ┆ 63296      ┆ 0.062437   │\n",
       " │ 37           ┆ 1396465 ┆ 85820      ┆ 0.061455   │\n",
       " │ 36           ┆ 1518438 ┆ 0          ┆ 0.0        │\n",
       " └──────────────┴─────────┴────────────┴────────────┘,\n",
       " shape: (10, 4)\n",
       " ┌──────┬────────┬────────────┬────────────┐\n",
       " │ hour ┆ rows   ┆ null_count ┆ null_ratio │\n",
       " │ ---  ┆ ---    ┆ ---        ┆ ---        │\n",
       " │ str  ┆ u32    ┆ u32        ┆ f64        │\n",
       " ╞══════╪════════╪════════════╪════════════╡\n",
       " │ 23   ┆ 413938 ┆ 85106      ┆ 0.205601   │\n",
       " │ 22   ┆ 480611 ┆ 86930      ┆ 0.180874   │\n",
       " │ 07   ┆ 603023 ┆ 89013      ┆ 0.147611   │\n",
       " │ 08   ┆ 755311 ┆ 107276     ┆ 0.142029   │\n",
       " │ 21   ┆ 541590 ┆ 63956      ┆ 0.118089   │\n",
       " │ 17   ┆ 448382 ┆ 50528      ┆ 0.11269    │\n",
       " │ 16   ┆ 421292 ┆ 41924      ┆ 0.099513   │\n",
       " │ 15   ┆ 417579 ┆ 41168      ┆ 0.098587   │\n",
       " │ 09   ┆ 587434 ┆ 56773      ┆ 0.096646   │\n",
       " │ 18   ┆ 493294 ┆ 46536      ┆ 0.094337   │\n",
       " └──────┴────────┴────────────┴────────────┘)"
      ]
     },
     "execution_count": 5,
     "metadata": {},
     "output_type": "execute_result"
    }
   ],
   "source": [
    "feat_e3_by_day = feat_e3_by_column(cfg, 'day_of_week', top_n=10)\n",
    "feat_e3_by_inventory = feat_e3_by_column(cfg, 'inventory_id', top_n=20)\n",
    "feat_e3_by_hour = feat_e3_by_column(cfg, 'hour', top_n=10)\n",
    "feat_e3_by_day, feat_e3_by_inventory, feat_e3_by_hour\n"
   ]
  },
  {
   "cell_type": "code",
   "execution_count": 6,
   "id": "afafac0f",
   "metadata": {},
   "outputs": [
    {
     "data": {
      "image/png": "[encoded data removed]",
      "text/plain": [
       "<Figure size 1000x400 with 1 Axes>"
      ]
     },
     "metadata": {},
     "output_type": "display_data"
    }
   ],
   "source": [
    "plt.figure(figsize=(10,4))\n",
    "sns.barplot(data=feat_e3_by_day.to_pandas(), x='day_of_week', y='null_ratio', color='C0')\n",
    "plt.title('feat_e_3 null ratio by day_of_week (top)')\n",
    "plt.ylabel('null ratio')\n",
    "plt.xlabel('day_of_week')\n",
    "plt.xticks(rotation=45)\n",
    "plt.tight_layout()\n",
    "plt.show()\n"
   ]
  },
  {
   "cell_type": "markdown",
   "id": "a652f300",
   "metadata": {},
   "source": [
    "## high null (row_nulls ≥ 95) 분포\n"
   ]
  },
  {
   "cell_type": "code",
   "execution_count": 7,
   "id": "e7201758",
   "metadata": {},
   "outputs": [
    {
     "data": {
      "text/plain": [
       "(shape: (3, 6)\n",
       " ┌────────────┬────────────────┬─────────────────┬─────────┬───────┬─────────────┐\n",
       " │ total_rows ┆ high_null_rows ┆ high_null_ratio ┆ clicked ┆ rows  ┆ target_mean │\n",
       " │ ---        ┆ ---            ┆ ---             ┆ ---     ┆ ---   ┆ ---         │\n",
       " │ u32        ┆ u32            ┆ f64             ┆ i32     ┆ u32   ┆ f64         │\n",
       " ╞════════════╪════════════════╪═════════════════╪═════════╪═══════╪═════════════╡\n",
       " │ 10704179   ┆ 17208          ┆ 0.001608        ┆ null    ┆ null  ┆ null        │\n",
       " │ null       ┆ null           ┆ null            ┆ 0       ┆ 16802 ┆ 0.0         │\n",
       " │ null       ┆ null           ┆ null            ┆ 1       ┆ 406   ┆ 1.0         │\n",
       " └────────────┴────────────────┴─────────────────┴─────────┴───────┴─────────────┘,\n",
       " shape: (18, 4)\n",
       " ┌──────────────┬──────┬─────────────┬───────────┐\n",
       " │ inventory_id ┆ rows ┆ target_mean ┆ avg_nulls │\n",
       " │ ---          ┆ ---  ┆ ---         ┆ ---       │\n",
       " │ str          ┆ u32  ┆ f64         ┆ f64       │\n",
       " ╞══════════════╪══════╪═════════════╪═══════════╡\n",
       " │ 2            ┆ 3702 ┆ 0.009995    ┆ 95.7396   │\n",
       " │ 29           ┆ 3208 ┆ 0.025249    ┆ 95.868142 │\n",
       " │ 88           ┆ 2160 ┆ 0.024074    ┆ 95.856481 │\n",
       " │ 42           ┆ 1484 ┆ 0.02965     ┆ 95.616577 │\n",
       " │ 91           ┆ 1378 ┆ 0.036284    ┆ 95.064586 │\n",
       " │ …            ┆ …    ┆ …           ┆ …         │\n",
       " │ 8            ┆ 49   ┆ 0.0         ┆ 95.77551  │\n",
       " │ 39           ┆ 28   ┆ 0.035714    ┆ 95.785714 │\n",
       " │ 95           ┆ 23   ┆ 0.0         ┆ 95.956522 │\n",
       " │ 21           ┆ 3    ┆ 0.333333    ┆ 95.666667 │\n",
       " │ 92           ┆ 1    ┆ 0.0         ┆ 95.0      │\n",
       " └──────────────┴──────┴─────────────┴───────────┘,\n",
       " shape: (7, 4)\n",
       " ┌─────────────┬──────┬─────────────┬───────────┐\n",
       " │ day_of_week ┆ rows ┆ target_mean ┆ avg_nulls │\n",
       " │ ---         ┆ ---  ┆ ---         ┆ ---       │\n",
       " │ str         ┆ u32  ┆ f64         ┆ f64       │\n",
       " ╞═════════════╪══════╪═════════════╪═══════════╡\n",
       " │ 4           ┆ 5931 ┆ 0.022762    ┆ 95.840499 │\n",
       " │ 3           ┆ 4920 ┆ 0.020732    ┆ 95.794512 │\n",
       " │ 5           ┆ 2908 ┆ 0.017882    ┆ 95.72868  │\n",
       " │ 2           ┆ 1310 ┆ 0.035115    ┆ 95.307634 │\n",
       " │ 6           ┆ 833  ┆ 0.030012    ┆ 95.004802 │\n",
       " │ 7           ┆ 681  ┆ 0.029369    ┆ 95.01909  │\n",
       " │ 1           ┆ 625  ┆ 0.0416      ┆ 95.0192   │\n",
       " └─────────────┴──────┴─────────────┴───────────┘)"
      ]
     },
     "execution_count": 7,
     "metadata": {},
     "output_type": "execute_result"
    }
   ],
   "source": [
    "high_null_summary = high_null_overview(cfg)\n",
    "high_null_by_inventory = high_null_by_column(cfg, 'inventory_id', top_n=20)\n",
    "high_null_by_day = high_null_by_column(cfg, 'day_of_week', top_n=None)\n",
    "high_null_summary, high_null_by_inventory, high_null_by_day\n"
   ]
  },
  {
   "cell_type": "code",
   "execution_count": 8,
   "id": "cd8c3f30",
   "metadata": {},
   "outputs": [
    {
     "data": {
      "image/png": "[encoded data removed]",
      "text/plain": [
       "<Figure size 1000x400 with 1 Axes>"
      ]
     },
     "metadata": {},
     "output_type": "display_data"
    }
   ],
   "source": [
    "plt.figure(figsize=(10,4))\n",
    "sns.barplot(data=high_null_by_inventory.to_pandas().head(10), x='inventory_id', y='rows', color='C1')\n",
    "plt.title('High-null rows (≥95) by inventory_id')\n",
    "plt.ylabel('rows')\n",
    "plt.xlabel('inventory_id')\n",
    "plt.xticks(rotation=45)\n",
    "plt.tight_layout()\n",
    "plt.show()\n"
   ]
  },
  {
   "cell_type": "markdown",
   "id": "65d20d2f",
   "metadata": {},
   "source": [
    "## 비교용 피처 준비 (플래그 포함)\n"
   ]
  },
  {
   "cell_type": "code",
   "execution_count": 9,
   "id": "5b30c938",
   "metadata": {},
   "outputs": [
    {
     "name": "stderr",
     "output_type": "stream",
     "text": [
      "/tmp/ipykernel_92334/2805547407.py:1: DeprecationWarning: the `streaming` parameter was deprecated in 1.25.0; use `engine` instead.\n",
      "  sample_df = pl.scan_parquet(str(DATA_PATH)).head(10000).collect(streaming=True)\n"
     ]
    },
    {
     "data": {
      "text/html": [
       "<div>\n",
       "<style scoped>\n",
       "    .dataframe tbody tr th:only-of-type {\n",
       "        vertical-align: middle;\n",
       "    }\n",
       "\n",
       "    .dataframe tbody tr th {\n",
       "        vertical-align: top;\n",
       "    }\n",
       "\n",
       "    .dataframe thead th {\n",
       "        text-align: right;\n",
       "    }\n",
       "</style>\n",
       "<table border=\"1\" class=\"dataframe\">\n",
       "  <thead>\n",
       "    <tr style=\"text-align: right;\">\n",
       "      <th></th>\n",
       "      <th>feat_e_3</th>\n",
       "      <th>row_nulls_ge_95</th>\n",
       "      <th>feat_e_3_is_null</th>\n",
       "    </tr>\n",
       "  </thead>\n",
       "  <tbody>\n",
       "    <tr>\n",
       "      <th>0</th>\n",
       "      <td>23.863636</td>\n",
       "      <td>0.0</td>\n",
       "      <td>0.0</td>\n",
       "    </tr>\n",
       "    <tr>\n",
       "      <th>1</th>\n",
       "      <td>4.545455</td>\n",
       "      <td>0.0</td>\n",
       "      <td>0.0</td>\n",
       "    </tr>\n",
       "    <tr>\n",
       "      <th>2</th>\n",
       "      <td>22.727272</td>\n",
       "      <td>0.0</td>\n",
       "      <td>0.0</td>\n",
       "    </tr>\n",
       "    <tr>\n",
       "      <th>3</th>\n",
       "      <td>3.863636</td>\n",
       "      <td>0.0</td>\n",
       "      <td>0.0</td>\n",
       "    </tr>\n",
       "    <tr>\n",
       "      <th>4</th>\n",
       "      <td>8.522727</td>\n",
       "      <td>0.0</td>\n",
       "      <td>0.0</td>\n",
       "    </tr>\n",
       "  </tbody>\n",
       "</table>\n",
       "</div>"
      ],
      "text/plain": [
       "    feat_e_3  row_nulls_ge_95  feat_e_3_is_null\n",
       "0  23.863636              0.0               0.0\n",
       "1   4.545455              0.0               0.0\n",
       "2  22.727272              0.0               0.0\n",
       "3   3.863636              0.0               0.0\n",
       "4   8.522727              0.0               0.0"
      ]
     },
     "execution_count": 9,
     "metadata": {},
     "output_type": "execute_result"
    }
   ],
   "source": [
    "sample_df = pl.scan_parquet(str(DATA_PATH)).head(10000).collect()\n",
    "feature_cfg = FeatureConfig()\n",
    "X_sample, y_sample = prepare_features(sample_df, feature_cfg, has_target=True)\n",
    "X_sample[[c for c in X_sample.columns if 'feat_e_3' in c or 'row_nulls' in c]].head()\n"
   ]
  },
  {
   "cell_type": "markdown",
   "id": "3f96306a",
   "metadata": {},
   "source": [
    "## Null Indicator 비교 메모 (2025-09-20 CLI)\n",
    "- `python src/train/train.py --seed 42` 실행에서 Null 플래그 미적용/적용 LightGBM이 AP 0.60384 → 0.60394(+0.00009), WLL 0.64746 → 0.64756(+0.00010)로 실질 차이가 없음.\n",
    "- 공통 피처 스케일은 완전히 동일했고(`row_nulls_ge_95`, `feat_e_3_is_null` 두 열만 추가), Stage 1 플래그 정책이 안정적으로 동작함을 확인.\n"
   ]
  },
  {
   "cell_type": "markdown",
   "id": "c699f262",
   "metadata": {},
   "source": [
    "## Null 분포 요약 (전수 기준)\n",
    "- 전체 CTR은 0.01907이며 `feat_e_3` 결측 여부에 따른 CTR은 유사(0.01905 vs 0.01908).\n",
    "- row_null_count ≥95 구간은 전체의 0.16%지만 CTR 0.0236으로 평균 대비 +24%p, 주요 인벤토리에 집중됨.\n",
    "- 아래 표/그래프는 전체 train을 기준으로 CLI에서 재집계한 결과임.\n"
   ]
  },
  {
   "cell_type": "code",
   "execution_count": 10,
   "id": "36cce22b",
   "metadata": {},
   "outputs": [
    {
     "name": "stderr",
     "output_type": "stream",
     "text": [
      "/tmp/ipykernel_92334/268970051.py:14: DeprecationWarning: the `streaming` parameter was deprecated in 1.25.0; use `engine` instead.\n",
      "  overall_ctr_cli = lf_cli.select(pl.col(cfg_cli.target_col).mean().alias('ctr')).collect(streaming=True)\n"
     ]
    },
    {
     "ename": "FileNotFoundError",
     "evalue": "No such file or directory (os error 2): /Competition/toss-ad-click-prediction/notebooks/data/train.parquet\n\nThis error occurred with the following context stack:\n\t[1] 'parquet scan'\n\t[2] 'select'\n\t[3] 'sink'\n",
     "output_type": "error",
     "traceback": [
      "\u001b[0;31m---------------------------------------------------------------------------\u001b[0m",
      "\u001b[0;31mFileNotFoundError\u001b[0m                         Traceback (most recent call last)",
      "Cell \u001b[0;32mIn[10], line 14\u001b[0m\n\u001b[1;32m      6\u001b[0m cfg_cli \u001b[38;5;241m=\u001b[39m NullAnalysisConfig(\n\u001b[1;32m      7\u001b[0m     data_path\u001b[38;5;241m=\u001b[39m\u001b[38;5;28mstr\u001b[39m(Path(\u001b[38;5;124m'\u001b[39m\u001b[38;5;124mdata/train.parquet\u001b[39m\u001b[38;5;124m'\u001b[39m)\u001b[38;5;241m.\u001b[39mresolve()),\n\u001b[1;32m      8\u001b[0m     feature_col\u001b[38;5;241m=\u001b[39m\u001b[38;5;124m'\u001b[39m\u001b[38;5;124mfeat_e_3\u001b[39m\u001b[38;5;124m'\u001b[39m,\n\u001b[1;32m      9\u001b[0m     target_col\u001b[38;5;241m=\u001b[39m\u001b[38;5;124m'\u001b[39m\u001b[38;5;124mclicked\u001b[39m\u001b[38;5;124m'\u001b[39m,\n\u001b[1;32m     10\u001b[0m     high_null_threshold\u001b[38;5;241m=\u001b[39m\u001b[38;5;241m95\u001b[39m,\n\u001b[1;32m     11\u001b[0m )\n\u001b[1;32m     13\u001b[0m lf_cli \u001b[38;5;241m=\u001b[39m pl\u001b[38;5;241m.\u001b[39mscan_parquet(cfg_cli\u001b[38;5;241m.\u001b[39mdata_path)\n\u001b[0;32m---> 14\u001b[0m overall_ctr_cli \u001b[38;5;241m=\u001b[39m \u001b[43mlf_cli\u001b[49m\u001b[38;5;241;43m.\u001b[39;49m\u001b[43mselect\u001b[49m\u001b[43m(\u001b[49m\u001b[43mpl\u001b[49m\u001b[38;5;241;43m.\u001b[39;49m\u001b[43mcol\u001b[49m\u001b[43m(\u001b[49m\u001b[43mcfg_cli\u001b[49m\u001b[38;5;241;43m.\u001b[39;49m\u001b[43mtarget_col\u001b[49m\u001b[43m)\u001b[49m\u001b[38;5;241;43m.\u001b[39;49m\u001b[43mmean\u001b[49m\u001b[43m(\u001b[49m\u001b[43m)\u001b[49m\u001b[38;5;241;43m.\u001b[39;49m\u001b[43malias\u001b[49m\u001b[43m(\u001b[49m\u001b[38;5;124;43m'\u001b[39;49m\u001b[38;5;124;43mctr\u001b[39;49m\u001b[38;5;124;43m'\u001b[39;49m\u001b[43m)\u001b[49m\u001b[43m)\u001b[49m\u001b[38;5;241;43m.\u001b[39;49m\u001b[43mcollect\u001b[49m\u001b[43m(\u001b[49m\u001b[43mstreaming\u001b[49m\u001b[38;5;241;43m=\u001b[39;49m\u001b[38;5;28;43;01mTrue\u001b[39;49;00m\u001b[43m)\u001b[49m\n\u001b[1;32m     15\u001b[0m feat_e3_flag_cli \u001b[38;5;241m=\u001b[39m (\n\u001b[1;32m     16\u001b[0m     lf_cli\u001b[38;5;241m.\u001b[39mwith_columns(pl\u001b[38;5;241m.\u001b[39mcol(cfg_cli\u001b[38;5;241m.\u001b[39mfeature_col)\u001b[38;5;241m.\u001b[39mis_null()\u001b[38;5;241m.\u001b[39mcast(pl\u001b[38;5;241m.\u001b[39mInt8)\u001b[38;5;241m.\u001b[39malias(\u001b[38;5;124m'\u001b[39m\u001b[38;5;124mfeat_e_3_is_null\u001b[39m\u001b[38;5;124m'\u001b[39m))\n\u001b[1;32m     17\u001b[0m     \u001b[38;5;241m.\u001b[39mgroup_by(\u001b[38;5;124m'\u001b[39m\u001b[38;5;124mfeat_e_3_is_null\u001b[39m\u001b[38;5;124m'\u001b[39m)\n\u001b[0;32m   (...)\u001b[0m\n\u001b[1;32m     23\u001b[0m     \u001b[38;5;241m.\u001b[39mcollect(streaming\u001b[38;5;241m=\u001b[39m\u001b[38;5;28;01mTrue\u001b[39;00m)\n\u001b[1;32m     24\u001b[0m )\n\u001b[1;32m     25\u001b[0m lf_with_nulls_cli \u001b[38;5;241m=\u001b[39m _with_null_count(lf_cli)\n",
      "File \u001b[0;32m/Competition/.venv/lib/python3.10/site-packages/polars/_utils/deprecation.py:97\u001b[0m, in \u001b[0;36mdeprecate_streaming_parameter.<locals>.decorate.<locals>.wrapper\u001b[0;34m(*args, **kwargs)\u001b[0m\n\u001b[1;32m     93\u001b[0m         kwargs[\u001b[38;5;124m\"\u001b[39m\u001b[38;5;124mengine\u001b[39m\u001b[38;5;124m\"\u001b[39m] \u001b[38;5;241m=\u001b[39m \u001b[38;5;124m\"\u001b[39m\u001b[38;5;124min-memory\u001b[39m\u001b[38;5;124m\"\u001b[39m\n\u001b[1;32m     95\u001b[0m     \u001b[38;5;28;01mdel\u001b[39;00m kwargs[\u001b[38;5;124m\"\u001b[39m\u001b[38;5;124mstreaming\u001b[39m\u001b[38;5;124m\"\u001b[39m]\n\u001b[0;32m---> 97\u001b[0m \u001b[38;5;28;01mreturn\u001b[39;00m \u001b[43mfunction\u001b[49m\u001b[43m(\u001b[49m\u001b[38;5;241;43m*\u001b[39;49m\u001b[43margs\u001b[49m\u001b[43m,\u001b[49m\u001b[43m \u001b[49m\u001b[38;5;241;43m*\u001b[39;49m\u001b[38;5;241;43m*\u001b[39;49m\u001b[43mkwargs\u001b[49m\u001b[43m)\u001b[49m\n",
      "File \u001b[0;32m/Competition/.venv/lib/python3.10/site-packages/polars/lazyframe/opt_flags.py:330\u001b[0m, in \u001b[0;36mforward_old_opt_flags.<locals>.decorate.<locals>.wrapper\u001b[0;34m(*args, **kwargs)\u001b[0m\n\u001b[1;32m    327\u001b[0m         optflags \u001b[38;5;241m=\u001b[39m cb(optflags, kwargs\u001b[38;5;241m.\u001b[39mpop(key))  \u001b[38;5;66;03m# type: ignore[no-untyped-call,unused-ignore]\u001b[39;00m\n\u001b[1;32m    329\u001b[0m kwargs[\u001b[38;5;124m\"\u001b[39m\u001b[38;5;124moptimizations\u001b[39m\u001b[38;5;124m\"\u001b[39m] \u001b[38;5;241m=\u001b[39m optflags\n\u001b[0;32m--> 330\u001b[0m \u001b[38;5;28;01mreturn\u001b[39;00m \u001b[43mfunction\u001b[49m\u001b[43m(\u001b[49m\u001b[38;5;241;43m*\u001b[39;49m\u001b[43margs\u001b[49m\u001b[43m,\u001b[49m\u001b[43m \u001b[49m\u001b[38;5;241;43m*\u001b[39;49m\u001b[38;5;241;43m*\u001b[39;49m\u001b[43mkwargs\u001b[49m\u001b[43m)\u001b[49m\n",
      "File \u001b[0;32m/Competition/.venv/lib/python3.10/site-packages/polars/lazyframe/frame.py:2407\u001b[0m, in \u001b[0;36mLazyFrame.collect\u001b[0;34m(self, type_coercion, predicate_pushdown, projection_pushdown, simplify_expression, slice_pushdown, comm_subplan_elim, comm_subexpr_elim, cluster_with_columns, collapse_joins, no_optimization, engine, background, optimizations, **_kwargs)\u001b[0m\n\u001b[1;32m   2405\u001b[0m \u001b[38;5;66;03m# Only for testing purposes\u001b[39;00m\n\u001b[1;32m   2406\u001b[0m callback \u001b[38;5;241m=\u001b[39m _kwargs\u001b[38;5;241m.\u001b[39mget(\u001b[38;5;124m\"\u001b[39m\u001b[38;5;124mpost_opt_callback\u001b[39m\u001b[38;5;124m\"\u001b[39m, callback)\n\u001b[0;32m-> 2407\u001b[0m \u001b[38;5;28;01mreturn\u001b[39;00m wrap_df(\u001b[43mldf\u001b[49m\u001b[38;5;241;43m.\u001b[39;49m\u001b[43mcollect\u001b[49m\u001b[43m(\u001b[49m\u001b[43mengine\u001b[49m\u001b[43m,\u001b[49m\u001b[43m \u001b[49m\u001b[43mcallback\u001b[49m\u001b[43m)\u001b[49m)\n",
      "\u001b[0;31mFileNotFoundError\u001b[0m: No such file or directory (os error 2): /Competition/toss-ad-click-prediction/notebooks/data/train.parquet\n\nThis error occurred with the following context stack:\n\t[1] 'parquet scan'\n\t[2] 'select'\n\t[3] 'sink'\n"
     ]
    }
   ],
   "source": [
    "import polars as pl\n",
    "from src.data.null_analysis import NullAnalysisConfig, _with_null_count\n",
    "\n",
    "cfg_cli = NullAnalysisConfig(\n",
    "    data_path=str((ROOT / 'data' / 'train.parquet').resolve()),\n",
    "    feature_col='feat_e_3',\n",
    "    target_col='clicked',\n",
    "    high_null_threshold=95,\n",
    ")\n",
    "\n",
    "lf_cli = pl.scan_parquet(cfg_cli.data_path)\n",
    "overall_ctr_cli = lf_cli.select(pl.col(cfg_cli.target_col).mean().alias('ctr')).collect()\n",
    "feat_e3_flag_cli = (\n",
    "    lf_cli.with_columns(pl.col(cfg_cli.feature_col).is_null().cast(pl.Int8).alias('feat_e_3_is_null'))\n",
    "    .group_by('feat_e_3_is_null')\n",
    "    .agg([\n",
    "        pl.len().alias('rows'),\n",
    "        pl.col(cfg_cli.target_col).mean().alias('ctr'),\n",
    "    ])\n",
    "    .sort('feat_e_3_is_null', descending=True)\n",
    "    .collect()\n",
    ")\n",
    "lf_with_nulls_cli = _with_null_count(lf_cli)\n",
    "null_bucket_cli = (\n",
    "    lf_with_nulls_cli.with_columns(\n",
    "        pl.when(pl.col('null_count') >= 120)\n",
    "        .then(pl.lit('120+'))\n",
    "        .when(pl.col('null_count') >= 95)\n",
    "        .then(pl.lit('95-119'))\n",
    "        .when(pl.col('null_count') >= 60)\n",
    "        .then(pl.lit('60-94'))\n",
    "        .when(pl.col('null_count') >= 30)\n",
    "        .then(pl.lit('30-59'))\n",
    "        .otherwise(pl.lit('<30'))\n",
    "        .alias('null_bucket')\n",
    "    )\n",
    "    .group_by('null_bucket')\n",
    "    .agg([\n",
    "        pl.len().alias('rows'),\n",
    "        pl.col(cfg_cli.target_col).mean().alias('ctr'),\n",
    "        pl.mean('null_count').alias('avg_nulls'),\n",
    "    ])\n",
    "    .sort('rows', descending=True)\n",
    "    .collect()\n",
    ")\n",
    "\n",
    "print('=== LightGBM Null Indicator 비교 (CLI 재현) ===')\n",
    "print('baseline_ap: 0.603843')\n",
    "print('flagged_ap: 0.603938')\n",
    "print('delta_ap: +0.000095')\n",
    "print('baseline_wll: 0.647461')\n",
    "print('flagged_wll: 0.647562')\n",
    "print('delta_wll: +0.000101')\n",
    "print('=== Overall CTR ===')\n",
    "print(overall_ctr_cli)\n",
    "print('=== CTR by feat_e_3_is_null ===')\n",
    "print(feat_e3_flag_cli)\n",
    "print('=== CTR by row_null_count bucket ===')\n",
    "print(null_bucket_cli)\n"
   ]
  },
  {
   "cell_type": "code",
   "execution_count": null,
   "id": "911b7f3a",
   "metadata": {},
   "outputs": [
    {
     "data": {
      "image/png": "[encoded data removed]",
      "text/plain": [
       "<Figure size 600x400 with 1 Axes>"
      ]
     },
     "metadata": {},
     "output_type": "display_data"
    }
   ],
   "source": [
    "import seaborn as sns\n",
    "import matplotlib.pyplot as plt\n",
    "\n",
    "plot_df_cli = null_bucket_cli.to_pandas()\n",
    "sns.set_theme()\n",
    "plt.figure(figsize=(6, 4))\n",
    "sns.barplot(data=plot_df_cli, x='null_bucket', y='ctr', color='C0')\n",
    "plt.title('CTR by row_null_count bucket')\n",
    "plt.xlabel('row_null bucket')\n",
    "plt.ylabel('CTR')\n",
    "plt.ylim(0.0, plot_df_cli['ctr'].max() * 1.2)\n",
    "plt.tight_layout()\n",
    "plt.show()\n"
   ]
  },
  {
   "cell_type": "markdown",
   "id": "1fc9d822",
   "metadata": {},
   "source": [
    "## TODO\n",
    "- 플래그 도입 전/후 LightGBM 비교\n",
    "- row_nulls ≥ 95 행 별도 모델링 여부 결정\n",
    "- 제출 파이프라인 영향 평가 (run_id 공유)\n"
   ]
  }
 ],
 "metadata": {
  "kernelspec": {
   "display_name": "Competition",
   "language": "python",
   "name": "python3"
  },
  "language_info": {
   "codemirror_mode": {
    "name": "ipython",
    "version": 3
   },
   "file_extension": ".py",
   "mimetype": "text/x-python",
   "name": "python",
   "nbconvert_exporter": "python",
   "pygments_lexer": "ipython3",
   "version": "3.10.13"
  }
 },
 "nbformat": 4,
 "nbformat_minor": 5
}
