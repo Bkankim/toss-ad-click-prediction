{
 "cells": [
  {
   "cell_type": "markdown",
   "id": "20abd96a-4eb5-483d-b3d9-32e1c1340ece",
   "metadata": {},
   "source": [
    "## Import"
   ]
  },
  {
   "cell_type": "code",
   "execution_count": 1,
   "id": "a593bbe1-b8a5-4a40-b46f-4ff25f132b86",
   "metadata": {},
   "outputs": [
    {
     "name": "stderr",
     "output_type": "stream",
     "text": [
      "/opt/conda/lib/python3.10/site-packages/cupy/_environment.py:596: UserWarning: \n",
      "--------------------------------------------------------------------------------\n",
      "\n",
      "  CuPy may not function correctly because multiple CuPy packages are installed\n",
      "  in your environment:\n",
      "\n",
      "    cupy, cupy-cuda11x\n",
      "\n",
      "  Follow these steps to resolve this issue:\n",
      "\n",
      "    1. For all packages listed above, run the following command to remove all\n",
      "       existing CuPy installations:\n",
      "\n",
      "         $ pip uninstall <package_name>\n",
      "\n",
      "      If you previously installed CuPy via conda, also run the following:\n",
      "\n",
      "         $ conda uninstall cupy\n",
      "\n",
      "    2. Install the appropriate CuPy package.\n",
      "       Refer to the Installation Guide for detailed instructions.\n",
      "\n",
      "         https://docs.cupy.dev/en/stable/install.html\n",
      "\n",
      "--------------------------------------------------------------------------------\n",
      "\n",
      "  warnings.warn(f'''\n"
     ]
    }
   ],
   "source": [
    "import pandas as pd\n",
    "import numpy as np\n",
    "import os\n",
    "import random\n",
    "\n",
    "from sklearn.model_selection import train_test_split\n",
    "from sklearn.metrics import average_precision_score, log_loss\n",
    "from tqdm import tqdm\n",
    "import polars as pl\n",
    "\n",
    "import lightgbm as lgb\n",
    "import pickle\n",
    "from datetime import datetime\n",
    "\n",
    "import matplotlib.pyplot as plt\n",
    "import seaborn as sns"
   ]
  },
  {
   "cell_type": "markdown",
   "id": "7d1e7a28-1d18-40a7-9d19-1dcdab7537ec",
   "metadata": {},
   "source": [
    "## Setting"
   ]
  },
  {
   "cell_type": "code",
   "execution_count": 2,
   "id": "d13d5928-880f-4b88-8dfa-dc791e930001",
   "metadata": {},
   "outputs": [],
   "source": [
    "CFG = {\n",
    "    'BATCH_SIZE': 3072,\n",
    "    'EPOCHS': 10,\n",
    "    'LEARNING_RATE': 2e-3,\n",
    "    'SEED' : 42\n",
    "}\n",
    "# device = \"cuda\" if torch.cuda.is_available() else \"cpu\""
   ]
  },
  {
   "cell_type": "code",
   "execution_count": 3,
   "id": "99aa02da-d89b-4a18-8344-261a413bac83",
   "metadata": {},
   "outputs": [],
   "source": [
    "def seed_everything(seed):\n",
    "    random.seed(seed)\n",
    "    os.environ['PYTHONHASHSEED'] = str(seed)\n",
    "    np.random.seed(seed)\n",
    "    # torch.manual_seed(seed)\n",
    "    # torch.cuda.manual_seed(seed)\n",
    "    # torch.backends.cudnn.deterministic = True\n",
    "    # torch.backends.cudnn.benchmark = False\n",
    "\n",
    "seed_everything(CFG['SEED']) # Seed 고정"
   ]
  },
  {
   "cell_type": "markdown",
   "id": "6421efbe-70c6-4aeb-946c-be1556e7743d",
   "metadata": {},
   "source": [
    "## Data Load"
   ]
  },
  {
   "cell_type": "code",
   "execution_count": 4,
   "id": "0154cbe8-5c69-4d1a-95a6-5f834fc7ab4d",
   "metadata": {},
   "outputs": [
    {
     "name": "stdout",
     "output_type": "stream",
     "text": [
      "Train shape: (10704179, 119)\n",
      "Test shape: (1527298, 118)\n"
     ]
    }
   ],
   "source": [
    "# 데이터 로드\n",
    "all_train = pl.read_parquet(\"../data/train.parquet\")\n",
    "test = pl.read_parquet(\"../data/test.parquet\").drop([\"ID\"])\n",
    "\n",
    "print(\"Train shape:\", all_train.shape)\n",
    "print(\"Test shape:\", test.shape)"
   ]
  },
  {
   "cell_type": "markdown",
   "id": "5cb80e25-5b02-43da-aa4f-5ca16cd7802e",
   "metadata": {},
   "source": [
    "## Data Down-Sampling"
   ]
  },
  {
   "cell_type": "code",
   "execution_count": 5,
   "id": "54c0b5e0-7fd7-4c4a-bc80-6a3428204784",
   "metadata": {},
   "outputs": [],
   "source": [
    "# clicked == 1 데이터\n",
    "clicked_1 = all_train.filter(pl.col(\"clicked\") == 1)\n",
    "\n",
    "# clicked == 0 데이터에서 동일 개수x2 만큼 무작위 추출 (다운 샘플링)\n",
    "clicked_0 = all_train.filter(pl.col(\"clicked\") == 0).sample(\n",
    "    n=clicked_1.height * 2, \n",
    "    seed=42\n",
    ")\n",
    "\n",
    "# 두 데이터프레임 합치기\n",
    "train = (\n",
    "    pl.concat([clicked_1, clicked_0], how=\"vertical\")  # axis=0과 동일\n",
    "      .sample(fraction=1.0, shuffle=True, seed=42)     # frac=1과 동일\n",
    "      # Polars에는 index가 없으므로 reset_index(drop=True)는 불필요\n",
    ")"
   ]
  },
  {
   "cell_type": "code",
   "execution_count": 6,
   "id": "151fc664-faa0-4951-bbbb-8b92f1ee3bff",
   "metadata": {},
   "outputs": [
    {
     "name": "stdout",
     "output_type": "stream",
     "text": [
      "Train shape: (612537, 119)\n",
      "Train clicked:0: (408358, 119)\n",
      "Train clicked:1: (204179, 119)\n"
     ]
    }
   ],
   "source": [
    "print(\"Train shape:\", train.shape)\n",
    "print(\"Train clicked:0:\", train.filter(pl.col(\"clicked\") == 0).shape)\n",
    "print(\"Train clicked:1:\", train.filter(pl.col(\"clicked\") == 1).shape)"
   ]
  },
  {
   "cell_type": "markdown",
   "id": "c188a0d4-f60a-422c-bb53-ae8eba8744d6",
   "metadata": {},
   "source": [
    "## Data Column Setting"
   ]
  },
  {
   "cell_type": "code",
   "execution_count": 7,
   "id": "c7ecc473-4bd8-4304-9d68-a5c01f4bbe11",
   "metadata": {},
   "outputs": [
    {
     "name": "stdout",
     "output_type": "stream",
     "text": [
      "Num features: 117\n",
      "Sequence: seq\n",
      "Target: clicked\n"
     ]
    }
   ],
   "source": [
    "# Target / Sequence\n",
    "target_col = \"clicked\"\n",
    "seq_col = \"seq\"\n",
    "\n",
    "# 학습에 사용할 피처: ID/seq/target 제외, 나머지 전부\n",
    "FEATURE_EXCLUDE = {target_col, seq_col, \"ID\"}\n",
    "feature_cols = [c for c in train.columns if c not in FEATURE_EXCLUDE]\n",
    "\n",
    "print(\"Num features:\", len(feature_cols))\n",
    "print(\"Sequence:\", seq_col)\n",
    "print(\"Target:\", target_col)"
   ]
  },
  {
   "cell_type": "code",
   "execution_count": 8,
   "id": "364e23b2",
   "metadata": {},
   "outputs": [],
   "source": [
    "def extract_sequence_features(df, seq_col):\n",
    "    \"\"\"시퀀스 데이터를 통계 특성으로 변환\"\"\"\n",
    "    seq_features = []\n",
    "    \n",
    "    # polars DataFrame을 pandas로 변환\n",
    "    seq_series = df[seq_col].to_pandas()\n",
    "    \n",
    "    for seq_str in seq_series:\n",
    "        if seq_str and str(seq_str) != 'null':\n",
    "            try:\n",
    "                arr = np.fromstring(str(seq_str), sep=\",\", dtype=np.float32)\n",
    "                if arr.size > 0:\n",
    "                    features = {\n",
    "                        'seq_mean': arr.mean(),\n",
    "                        'seq_std': arr.std() if arr.size > 1 else 0.0,\n",
    "                        'seq_min': arr.min(),\n",
    "                        'seq_max': arr.max(),\n",
    "                        'seq_len': len(arr),\n",
    "                        'seq_sum': arr.sum(),\n",
    "                        'seq_median': np.median(arr),\n",
    "                    }\n",
    "                else:\n",
    "                    features = {k: 0.0 for k in ['seq_mean', 'seq_std', 'seq_min', 'seq_max', 'seq_len', 'seq_sum', 'seq_median']}\n",
    "            except:\n",
    "                features = {k: 0.0 for k in ['seq_mean', 'seq_std', 'seq_min', 'seq_max', 'seq_len', 'seq_sum', 'seq_median']}\n",
    "        else:\n",
    "            features = {k: 0.0 for k in ['seq_mean', 'seq_std', 'seq_min', 'seq_max', 'seq_len', 'seq_sum', 'seq_median']}\n",
    "            \n",
    "        seq_features.append(features)\n",
    "    \n",
    "    seq_df = pd.DataFrame(seq_features)\n",
    "    seq_df = seq_df.fillna(0.0)\n",
    "    return seq_df"
   ]
  },
  {
   "cell_type": "markdown",
   "id": "426899fa-b4f3-480d-b7de-8d7e811ad4f8",
   "metadata": {},
   "source": [
    "## Define Custom Dataset"
   ]
  },
  {
   "cell_type": "code",
   "execution_count": 9,
   "id": "c3c0b13b-3a81-4a2e-a753-1f9d8aa467ea",
   "metadata": {},
   "outputs": [],
   "source": [
    "def prepare_data(df, feature_cols, seq_col, target_col=None, has_target=True):\n",
    "    \"\"\"LightGBM용 데이터 준비\"\"\"\n",
    "    # 기존 tabular 특성\n",
    "    X_tabular = df.select(feature_cols).cast(pl.Float64).fill_null(0).to_pandas()\n",
    "    \n",
    "    # 시퀀스 특성 추출\n",
    "    seq_df = extract_sequence_features(df, seq_col)\n",
    "    \n",
    "    # 특성 결합\n",
    "    X_combined = pd.concat([X_tabular, seq_df], axis=1)\n",
    "    \n",
    "    if has_target:\n",
    "        y = df[target_col].cast(pl.Float32).to_pandas().values\n",
    "        return X_combined, y\n",
    "    else:\n",
    "        return X_combined"
   ]
  },
  {
   "cell_type": "code",
   "execution_count": 10,
   "id": "7b95f1cd-e8e8-4420-ad26-c639e36e472f",
   "metadata": {},
   "outputs": [],
   "source": [
    "def collate_fn_train(batch):\n",
    "    xs, seqs, ys = zip(*batch)\n",
    "    xs = torch.stack(xs)\n",
    "    ys = torch.stack(ys)\n",
    "    seqs_padded = nn.utils.rnn.pad_sequence(seqs, batch_first=True, padding_value=0.0)\n",
    "    seq_lengths = torch.tensor([len(s) for s in seqs], dtype=torch.long)\n",
    "    seq_lengths = torch.clamp(seq_lengths, min=1)  # 빈 시퀀스 방지\n",
    "    return xs, seqs_padded, seq_lengths, ys\n",
    "\n",
    "def collate_fn_infer(batch):\n",
    "    xs, seqs = zip(*batch)\n",
    "    xs = torch.stack(xs)\n",
    "    seqs_padded = nn.utils.rnn.pad_sequence(seqs, batch_first=True, padding_value=0.0)\n",
    "    seq_lengths = torch.tensor([len(s) for s in seqs], dtype=torch.long)\n",
    "    seq_lengths = torch.clamp(seq_lengths, min=1)\n",
    "    return xs, seqs_padded, seq_lengths"
   ]
  },
  {
   "cell_type": "markdown",
   "id": "6649f6ff-cb10-45ee-b787-d2e7e652c871",
   "metadata": {},
   "source": [
    "## Define Model Architecture"
   ]
  },
  {
   "cell_type": "code",
   "execution_count": 11,
   "id": "9144bc61-0942-4ed3-bb52-e347d571ad4a",
   "metadata": {},
   "outputs": [],
   "source": [
    "# class TabularSeqModel(nn.Module):\n",
    "#     def __init__(self, d_features, lstm_hidden=32, hidden_units=[1024, 512, 256, 128], dropout=0.2):\n",
    "#         super().__init__()\n",
    "#         # 모든 비-시퀀스 피처에 BN\n",
    "#         self.bn_x = nn.BatchNorm1d(d_features)\n",
    "#         # seq: 숫자 시퀀스 → LSTM\n",
    "#         self.lstm = nn.LSTM(input_size=1, hidden_size=lstm_hidden, batch_first=True)\n",
    "\n",
    "#         # 최종 MLP\n",
    "#         input_dim = d_features + lstm_hidden\n",
    "#         layers = []\n",
    "#         for h in hidden_units:\n",
    "#             layers += [nn.Linear(input_dim, h), nn.ReLU(), nn.Dropout(dropout)]\n",
    "#             input_dim = h\n",
    "#         layers += [nn.Linear(input_dim, 1)]\n",
    "#         self.mlp = nn.Sequential(*layers)\n",
    "\n",
    "#     def forward(self, x_feats, x_seq, seq_lengths):\n",
    "#         # 비-시퀀스 피처\n",
    "#         x = self.bn_x(x_feats)\n",
    "\n",
    "#         # 시퀀스 → LSTM (pack)\n",
    "#         x_seq = x_seq.unsqueeze(-1)  # (B, L, 1)\n",
    "#         packed = nn.utils.rnn.pack_padded_sequence(\n",
    "#             x_seq, seq_lengths.cpu(), batch_first=True, enforce_sorted=False\n",
    "#         )\n",
    "#         _, (h_n, _) = self.lstm(packed)\n",
    "#         h = h_n[-1]                  # (B, lstm_hidden)\n",
    "\n",
    "#         z = torch.cat([x, h], dim=1)\n",
    "#         return self.mlp(z).squeeze(1)  # logits"
   ]
  },
  {
   "cell_type": "markdown",
   "id": "b2c6ad06-d840-4ac3-b565-4d2450c0af39",
   "metadata": {},
   "source": [
    "## Train / Validation"
   ]
  },
  {
   "cell_type": "code",
   "execution_count": 12,
   "id": "f9d94d11-f7b9-449e-b631-e70224df92c9",
   "metadata": {},
   "outputs": [],
   "source": [
    "def train_model(train_df, feature_cols, seq_col, target_col,\n",
    "                batch_size=CFG['BATCH_SIZE'], epochs=CFG['EPOCHS'], lr=CFG['LEARNING_RATE'], device=\"cuda\"):\n",
    "    \"\"\"\n",
    "    원본 함수명 유지하면서 LightGBM으로 교체\n",
    "    기존 파라미터도 유지 (사용하지 않지만 호환성 위해)\n",
    "    \"\"\"\n",
    "    \n",
    "    print(\"🔄 데이터 전처리 중...\")\n",
    "    \n",
    "    # 1. 데이터 준비\n",
    "    X, y = prepare_data(train_df, feature_cols, seq_col, target_col, has_target=True)\n",
    "    \n",
    "    # 2. Train/Validation 분할\n",
    "    X_train, X_val, y_train, y_val = train_test_split(\n",
    "        X, y, test_size=0.2, random_state=42, shuffle=True\n",
    "    )\n",
    "    \n",
    "    print(f\"📊 학습 데이터: {X_train.shape}, 검증 데이터: {X_val.shape}\")\n",
    "    \n",
    "    # 3. LightGBM 데이터셋 생성\n",
    "    train_data = lgb.Dataset(X_train, label=y_train)\n",
    "    val_data = lgb.Dataset(X_val, label=y_val, reference=train_data)\n",
    "    \n",
    "    # 4. LightGBM 파라미터\n",
    "    params = {\n",
    "        'objective': 'binary',\n",
    "        'metric': 'binary_logloss',\n",
    "        'boosting_type': 'gbdt',\n",
    "        'num_leaves': 31,\n",
    "        'learning_rate': 0.1,\n",
    "        'feature_fraction': 0.8,\n",
    "        'bagging_fraction': 0.8,\n",
    "        'bagging_freq': 5,\n",
    "        'verbose': -1,\n",
    "        'random_state': 42,\n",
    "    }\n",
    "    \n",
    "    # 5. 모델 학습 (epochs 파라미터 활용)\n",
    "    print(f\"🚀 LightGBM 학습 시작... (epochs={epochs} → {epochs*100} rounds)\")\n",
    "    model = lgb.train(\n",
    "        params,\n",
    "        train_data,\n",
    "        valid_sets=[val_data],\n",
    "        num_boost_round=epochs * 100,  # epochs를 rounds로 변환\n",
    "        callbacks=[\n",
    "            lgb.log_evaluation(period=50),\n",
    "            lgb.early_stopping(stopping_rounds=50)\n",
    "        ]\n",
    "    )\n",
    "    \n",
    "    # 6. 검증 성능\n",
    "    val_preds = model.predict(X_val)\n",
    "    val_loss = log_loss(y_val, val_preds)\n",
    "    \n",
    "    print(f\"✅ 학습 완료! Validation LogLoss: {val_loss:.4f}\")\n",
    "    \n",
    "    return model\n"
   ]
  },
  {
   "cell_type": "markdown",
   "id": "d0999f03-85ca-4eaf-bea0-822cda393d29",
   "metadata": {},
   "source": [
    "## Run!!"
   ]
  },
  {
   "cell_type": "code",
   "execution_count": 13,
   "id": "b730bdf4-9697-40b1-b53b-1c10380ff43d",
   "metadata": {},
   "outputs": [
    {
     "name": "stdout",
     "output_type": "stream",
     "text": [
      "🔄 데이터 전처리 중...\n",
      "📊 학습 데이터: (490029, 124), 검증 데이터: (122508, 124)\n",
      "🚀 LightGBM 학습 시작... (epochs=10 → 1000 rounds)\n",
      "Training until validation scores don't improve for 50 rounds\n",
      "[50]\tvalid_0's binary_logloss: 0.555492\n",
      "[100]\tvalid_0's binary_logloss: 0.551241\n",
      "[150]\tvalid_0's binary_logloss: 0.550189\n",
      "[200]\tvalid_0's binary_logloss: 0.549651\n",
      "[250]\tvalid_0's binary_logloss: 0.549406\n",
      "[300]\tvalid_0's binary_logloss: 0.549206\n",
      "[350]\tvalid_0's binary_logloss: 0.54917\n",
      "[400]\tvalid_0's binary_logloss: 0.548956\n",
      "[450]\tvalid_0's binary_logloss: 0.54896\n",
      "Early stopping, best iteration is:\n",
      "[442]\tvalid_0's binary_logloss: 0.548913\n",
      "✅ 학습 완료! Validation LogLoss: 0.5489\n"
     ]
    }
   ],
   "source": [
    "model = train_model(\n",
    "    train_df=train,\n",
    "    feature_cols=feature_cols,\n",
    "    seq_col=seq_col,\n",
    "    target_col=target_col,\n",
    "    batch_size=CFG['BATCH_SIZE'],\n",
    "    epochs=CFG['EPOCHS'],\n",
    "    lr=CFG['LEARNING_RATE'],\n",
    "    # device=device\n",
    ")"
   ]
  },
  {
   "cell_type": "code",
   "execution_count": null,
   "id": "b9eb69a3",
   "metadata": {},
   "outputs": [
    {
     "name": "stdout",
     "output_type": "stream",
     "text": [
      "📊 대회 평가지표 계산 중...\n",
      "🎯 대회 평가 결과:\n",
      "   AP (Average Precision): 0.6069\n",
      "   WLL (Weighted LogLoss): 0.6462\n",
      "   Competition Score: 0.4804\n"
     ]
    }
   ],
   "source": [
    "def calculate_competition_score(y_true, y_pred):\n",
    "    \"\"\"대회 평가지표 계산: AP 50% + WLL 50%\"\"\"\n",
    "    \n",
    "    # Average Precision (50%)\n",
    "    ap_score = average_precision_score(y_true, y_pred)\n",
    "    \n",
    "    # Weighted LogLoss (50%) - 클래스별 50:50 가중치\n",
    "    n_pos = np.sum(y_true)\n",
    "    n_neg = len(y_true) - n_pos\n",
    "    \n",
    "    # 50:50 비율로 가중치 조정\n",
    "    pos_weight = 0.5 / (n_pos / len(y_true)) if n_pos > 0 else 1.0\n",
    "    neg_weight = 0.5 / (n_neg / len(y_true)) if n_neg > 0 else 1.0\n",
    "    \n",
    "    # 가중 로그손실 계산\n",
    "    sample_weights = np.where(y_true == 1, pos_weight, neg_weight)\n",
    "    wll_score = log_loss(y_true, y_pred, sample_weight=sample_weights)\n",
    "    \n",
    "    # 최종 점수 계산 (정규화 방식 수정)\n",
    "    final_score = 0.5 * ap_score + 0.5 * (1 / ( 1 + wll_score))\n",
    "    \n",
    "    return {\n",
    "        'AP': ap_score,\n",
    "        'WLL': wll_score, \n",
    "        'Competition_Score': final_score\n",
    "    }\n",
    "\n",
    "# train_model 함수에서 반환된 데이터로 평가\n",
    "# 기존 함수가 model만 반환하므로 데이터를 다시 준비해야 함\n",
    "print(\"📊 대회 평가지표 계산 중...\")\n",
    "X, y = prepare_data(train, feature_cols, seq_col, target_col, has_target=True)\n",
    "X_train, X_val, y_train, y_val = train_test_split(\n",
    "    X, y, test_size=0.2, random_state=42, shuffle=True\n",
    ")\n",
    "\n",
    "val_preds = model.predict(X_val)\n",
    "scores = calculate_competition_score(y_val, val_preds)\n",
    "\n",
    "print(f\"🎯 대회 평가 결과:\")\n",
    "print(f\"   AP (Average Precision): {scores['AP']:.4f}\")\n",
    "print(f\"   WLL (Weighted LogLoss): {scores['WLL']:.4f}\") \n",
    "print(f\"   Competition Score: {scores['Competition_Score']:.4f}\")"
   ]
  },
  {
   "cell_type": "code",
   "execution_count": 15,
   "id": "5afa69a5",
   "metadata": {},
   "outputs": [
    {
     "name": "stdout",
     "output_type": "stream",
     "text": [
      "💾 모델 저장 완료: lgb_model_20250917_144747.pkl\n",
      "📁 저장 경로: /toss-ad-click-prediction/notebooks/lgb_model_20250917_144747.pkl\n",
      "🤖 모델 정보:\n",
      "   - 특성 수: 124\n",
      "   - 트리 수: 442\n",
      "   - 최적 반복: 442\n",
      "⚙️  설정 저장 완료: config_20250917_144747.pkl\n"
     ]
    }
   ],
   "source": [
    "# ====================\n",
    "#  Model Save\n",
    "# ====================\n",
    "\n",
    "# 타임스탬프 포함 파일명 생성\n",
    "timestamp = datetime.now().strftime(\"%Y%m%d_%H%M%S\")\n",
    "model_filename = f\"lgb_model_{timestamp}.pkl\"\n",
    "\n",
    "# 모델 저장\n",
    "with open(model_filename, 'wb') as f:\n",
    "    pickle.dump(model, f)\n",
    "\n",
    "print(f\"💾 모델 저장 완료: {model_filename}\")\n",
    "print(f\"📁 저장 경로: {os.path.abspath(model_filename)}\")\n",
    "\n",
    "# 모델 정보 출력\n",
    "print(f\"🤖 모델 정보:\")\n",
    "print(f\"   - 특성 수: {model.num_feature()}\")\n",
    "print(f\"   - 트리 수: {model.num_trees()}\")\n",
    "print(f\"   - 최적 반복: {model.best_iteration}\")\n",
    "\n",
    "# 설정 정보도 함께 저장\n",
    "config_data = {\n",
    "    'feature_cols': feature_cols,\n",
    "    'seq_col': seq_col,\n",
    "    'target_col': target_col,\n",
    "    'CFG': CFG,\n",
    "    'train_shape': train.shape,\n",
    "    'model_type': 'LightGBM'\n",
    "}\n",
    "\n",
    "config_filename = f\"config_{timestamp}.pkl\"\n",
    "with open(config_filename, 'wb') as f:\n",
    "    pickle.dump(config_data, f)\n",
    "\n",
    "print(f\"⚙️  설정 저장 완료: {config_filename}\")"
   ]
  },
  {
   "cell_type": "code",
   "execution_count": 16,
   "id": "5f13c25c",
   "metadata": {},
   "outputs": [],
   "source": [
    "# # ====================\n",
    "# # 📂 Model Load (필요시 사용)\n",
    "# # ====================\n",
    "# # 저장된 모델 로드하는 경우\n",
    "# model_filename = \"lgb_model_20240917_143022.pkl\"  # 실제 파일명으로 변경\n",
    "\n",
    "# with open(model_filename, 'rb') as f:\n",
    "#     model = pickle.load(f)\n",
    "\n",
    "# print(f\"✅ 모델 로드 완료: {model_filename}\")"
   ]
  },
  {
   "cell_type": "markdown",
   "id": "8c5421c1-a18d-43de-934e-d0ee5af34594",
   "metadata": {},
   "source": [
    "## Inference"
   ]
  },
  {
   "cell_type": "code",
   "execution_count": 17,
   "id": "f64e9288-e35d-4e03-bb41-2c4d1fd5ccaf",
   "metadata": {},
   "outputs": [
    {
     "name": "stdout",
     "output_type": "stream",
     "text": [
      "🔮 추론 시작...\n"
     ]
    },
    {
     "name": "stdout",
     "output_type": "stream",
     "text": [
      "✅ 추론 완료! 예측값 범위: 0.0283 ~ 0.9965\n"
     ]
    }
   ],
   "source": [
    "print(\"🔮 추론 시작...\")\n",
    "\n",
    "# 1. 테스트 데이터 준비\n",
    "X_test = prepare_data(test, feature_cols, seq_col, has_target=False)\n",
    "\n",
    "# 2. 예측\n",
    "test_preds = model.predict(X_test)\n",
    "\n",
    "print(f\"✅ 추론 완료! 예측값 범위: {test_preds.min():.4f} ~ {test_preds.max():.4f}\")"
   ]
  },
  {
   "cell_type": "code",
   "execution_count": 18,
   "id": "e4935d87",
   "metadata": {},
   "outputs": [
    {
     "name": "stderr",
     "output_type": "stream",
     "text": [
      "/tmp/ipykernel_172246/2956658547.py:13: FutureWarning: \n",
      "\n",
      "Passing `palette` without assigning `hue` is deprecated and will be removed in v0.14.0. Assign the `y` variable to `hue` and set `legend=False` for the same effect.\n",
      "\n",
      "  sns.barplot(data=fi_df, x=\"importance\", y=\"feature\", palette=\"viridis\")\n"
     ]
    },
    {
     "data": {
      "image/png": "[encoded data removed]",
      "text/plain": [
       "<Figure size 800x600 with 1 Axes>"
      ]
     },
     "metadata": {},
     "output_type": "display_data"
    }
   ],
   "source": [
    "def plot_feature_importance(model, feature_cols, top_n=20):\n",
    "    \"\"\"LightGBM feature importance 시각화\"\"\"\n",
    "    # feature_cols와 시퀀스 특성을 결합한 전체 특성명\n",
    "    seq_features = ['seq_mean', 'seq_std', 'seq_min', 'seq_max', 'seq_len', 'seq_sum', 'seq_median']\n",
    "    all_features = feature_cols + seq_features\n",
    "    \n",
    "    fi_df = pd.DataFrame({\n",
    "        \"feature\": all_features,\n",
    "        \"importance\": model.feature_importance(importance_type='gain')  # LightGBM의 feature_importance 사용\n",
    "    }).sort_values(\"importance\", ascending=False).head(top_n)\n",
    "\n",
    "    plt.figure(figsize=(8, 6))\n",
    "    sns.barplot(data=fi_df, x=\"importance\", y=\"feature\", palette=\"viridis\")\n",
    "    plt.title(\"Top Feature Importances (LightGBM)\")\n",
    "    plt.tight_layout()\n",
    "    plt.show()\n",
    "\n",
    "# 실행\n",
    "plot_feature_importance(model, feature_cols)"
   ]
  },
  {
   "cell_type": "markdown",
   "id": "addc0a92-05f9-4be6-9e45-cc52240afc3e",
   "metadata": {},
   "source": [
    "## Submission"
   ]
  },
  {
   "cell_type": "code",
   "execution_count": 20,
   "id": "757f01bc-51a2-46bf-983f-a54e91abe222",
   "metadata": {},
   "outputs": [],
   "source": [
    "submit = pl.read_csv(\"../data/sample_submission.csv\")\n",
    "submit = submit.with_columns(pl.Series(\"clicked\", test_preds))"
   ]
  },
  {
   "cell_type": "code",
   "execution_count": null,
   "id": "289fc0a5-d97a-4cd6-abfb-245b7383ac34",
   "metadata": {},
   "outputs": [
    {
     "ename": "",
     "evalue": "",
     "output_type": "error",
     "traceback": [
      "\u001b[1;31mThe Kernel crashed while executing code in the current cell or a previous cell. \n",
      "\u001b[1;31mPlease review the code in the cell(s) to identify a possible cause of the failure. \n",
      "\u001b[1;31mClick <a href='https://aka.ms/vscodeJupyterKernelCrash'>here</a> for more info. \n",
      "\u001b[1;31mView Jupyter <a href='command:jupyter.viewOutput'>log</a> for further details."
     ]
    }
   ],
   "source": [
    "submit.write_csv(\"./baseline_submit.csv\")"
   ]
  }
 ],
 "metadata": {
  "kernelspec": {
   "display_name": "base",
   "language": "python",
   "name": "python3"
  },
  "language_info": {
   "codemirror_mode": {
    "name": "ipython",
    "version": 3
   },
   "file_extension": ".py",
   "mimetype": "text/x-python",
   "name": "python",
   "nbconvert_exporter": "python",
   "pygments_lexer": "ipython3",
   "version": "3.10.13"
  }
 },
 "nbformat": 4,
 "nbformat_minor": 5
}
